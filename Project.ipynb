{
 "cells": [
  {
   "cell_type": "markdown",
   "metadata": {},
   "source": [
    "![ine-divider](https://user-images.githubusercontent.com/7065401/92672068-398e8080-f2ee-11ea-82d6-ad53f7feb5c0.png)\n",
    "<hr>\n",
    "\n",
    "### MySQL and MariaDB for Python Developers\n",
    "# Perform database management with admin tools\n",
    "\n",
    "In this project, you should use whatever administration tool(s) you prefer to perform some general database and user management tasks.  \n",
    "\n",
    "You will need access to a MySQL installation where you have superuser permissions. If you do not have such access elsewhere, installing to your personal workstation is a good idea.  Alternately, you might wish to use a Docker container for a self-contained installation.  See ` https://hub.docker.com/_/mysql` for details on that option.\n",
    "\n",
    "![orange-divider](https://user-images.githubusercontent.com/7065401/92672455-187a5f80-f2ef-11ea-890c-40be9474f7b7.png)"
   ]
  },
  {
   "cell_type": "markdown",
   "metadata": {},
   "source": [
    "## Part 1\n",
    "\n",
    "**Create a database and users**\n",
    "\n",
    "We did not perform the precise steps addressed in this project in this lesson, so you should consult the [MySQL documentation](https://dev.mysql.com/doc/) for details.  Doing so is itself good practice, since there are far more small details than you will be able to remember completely in administration options.\n",
    "\n",
    "* Create a database called `ine_project`.\n",
    "* Create users/roles `alice`, `bob`, and `clara` with passwords `alicepw`, `bobpw`, and `clarapw`.\n",
    "* Alice's password should remain valid for 180 days. The others will remain valid indefinitely.\n",
    "* Test logging in as each of the roles."
   ]
  },
  {
   "cell_type": "markdown",
   "metadata": {},
   "source": [
    "If you have configured the server correctly, you should see output similar to the below for Alice, querying with `SELECT * FROM mysql.user WHERE user='Alice'`\n",
    "\n",
    "\n",
    "```sql\n",
    "SELECT User,password_expired,password_last_changed,password_lifetime,account_locked \n",
    "FROM mysql.user WHERE user='Alice'\n",
    "```\n",
    "\n",
    "\n",
    "| User  | password_expired | password_last_changed | password_lifetime | account_locked |\n",
    "|-------|------------------|-----------------------|-------------------|----------------|\n",
    "| Alice | N                | 2021-01-14 15:18:47   |               180 | N              |\n",
    "\n"
   ]
  },
  {
   "cell_type": "markdown",
   "metadata": {},
   "source": [
    "**A possible solution**\n",
    "\n",
    "You may choose to peform this administration using a GUI tool, or using Python calls to your MySQL adapter. \n",
    "\n",
    "```sql\n",
    "CREATE DATABASE ine_project;\n",
    "CREATE USER 'Alice'@'localhost' IDENTIFIED BY 'alicepw' PASSWORD EXPIRE INTERVAL 180 DAY;\n",
    "CREATE USER 'Bob'@'localhost' IDENTIFIED BY 'bobpw';\n",
    "CREATE USER 'Clara'@'localhost' IDENTIFIED BY 'clarapw';\n",
    "```\n"
   ]
  },
  {
   "cell_type": "markdown",
   "metadata": {},
   "source": [
    "![orange-divider](https://user-images.githubusercontent.com/7065401/92672455-187a5f80-f2ef-11ea-890c-40be9474f7b7.png)\n",
    "\n",
    "## Part 2\n",
    "\n",
    "**Create tables and permissions**\n",
    "\n",
    "For this task, you will create tables and grant your users certain permissions. The purpose of this task is not about data design, so the specific data types and columns you create are not too important.  You may want to use a couple distinctive columns and values within them to check that the behavior is as you intended.\n",
    "\n",
    "* Create tables `data1`, `data2`, and `data3`.\n",
    "* Alice should be permitted to perform all actions on all tables.\n",
    "* Bob should only be able to:\n",
    "  * Only read from `data1`;\n",
    "  * Insert new rows into `data2`, but not change or remove existing rows;\n",
    "  * Modify existing rows in `data3`, but not add or remove any.\n",
    "* Clara should be remove rows from all tables, but not change or even read them.\n",
    "\n",
    "Try to perform actions as these users to verify permissions are as intended."
   ]
  },
  {
   "cell_type": "markdown",
   "metadata": {},
   "source": [
    "**A possible solution**\n",
    "\n",
    "\n",
    "You may choose to peform this administration using a GUI tool, or using Python calls to your MySQL adapter. \n",
    "\n",
    "```sql\n",
    "USE ine_project;\n",
    "CREATE TABLE data1 (id SERIAL, description TEXT);\n",
    "CREATE TABLE data2 (id SERIAL, description TEXT);\n",
    "CREATE TABLE data3 (id SERIAL, description TEXT);\n",
    "```\n",
    "```\n",
    "mysql> SHOW TABLES;\n",
    "+-----------------------+\n",
    "| Tables_in_ine_project |\n",
    "+-----------------------+\n",
    "| data1                 |\n",
    "| data2                 |\n",
    "| data3                 |\n",
    "+-----------------------+\n",
    "3 rows in set (0.00 sec)\n",
    "```\n",
    "```sql\n",
    "GRANT ALL ON ine_project.* TO 'Alice'@'localhost';\n",
    "GRANT SELECT ON data1 TO 'Bob'@'localhost';\n",
    "GRANT INSERT ON data2 TO 'Bob'@'localhost';\n",
    "GRANT UPDATE ON data3 TO 'Bob'@'localhost';\n",
    "GRANT DELETE ON ine_project.* TO 'Clara'@'localhost';\n",
    "```\n"
   ]
  },
  {
   "cell_type": "markdown",
   "metadata": {},
   "source": [
    "![orange-divider](https://user-images.githubusercontent.com/7065401/92672455-187a5f80-f2ef-11ea-890c-40be9474f7b7.png)"
   ]
  }
 ],
 "metadata": {
  "kernelspec": {
   "display_name": "Python 3",
   "language": "python",
   "name": "python3"
  },
  "language_info": {
   "codemirror_mode": {
    "name": "ipython",
    "version": 3
   },
   "file_extension": ".py",
   "mimetype": "text/x-python",
   "name": "python",
   "nbconvert_exporter": "python",
   "pygments_lexer": "ipython3",
   "version": "3.8.6"
  }
 },
 "nbformat": 4,
 "nbformat_minor": 4
}
